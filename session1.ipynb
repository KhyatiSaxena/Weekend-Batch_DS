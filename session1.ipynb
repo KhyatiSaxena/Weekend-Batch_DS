{
 "cells": [
  {
   "cell_type": "code",
   "execution_count": 6,
   "id": "237f3187",
   "metadata": {},
   "outputs": [
    {
     "data": {
      "text/plain": [
       "58"
      ]
     },
     "execution_count": 6,
     "metadata": {},
     "output_type": "execute_result"
    }
   ],
   "source": [
    "3+55"
   ]
  },
  {
   "cell_type": "code",
   "execution_count": 2,
   "id": "54bf3b42",
   "metadata": {},
   "outputs": [],
   "source": [
    "a = 3+55"
   ]
  },
  {
   "cell_type": "code",
   "execution_count": 3,
   "id": "bc681067",
   "metadata": {},
   "outputs": [
    {
     "data": {
      "text/plain": [
       "58"
      ]
     },
     "execution_count": 3,
     "metadata": {},
     "output_type": "execute_result"
    }
   ],
   "source": [
    "a"
   ]
  },
  {
   "cell_type": "code",
   "execution_count": 1,
   "id": "4ebbf079",
   "metadata": {},
   "outputs": [],
   "source": [
    "a =90\n",
    "b =80"
   ]
  },
  {
   "cell_type": "code",
   "execution_count": 2,
   "id": "548615a2",
   "metadata": {},
   "outputs": [
    {
     "data": {
      "text/plain": [
       "True"
      ]
     },
     "execution_count": 2,
     "metadata": {},
     "output_type": "execute_result"
    }
   ],
   "source": [
    "a != b"
   ]
  },
  {
   "cell_type": "code",
   "execution_count": 59,
   "id": "0372e3ee",
   "metadata": {},
   "outputs": [
    {
     "data": {
      "text/plain": [
       "1974691302416"
      ]
     },
     "execution_count": 59,
     "metadata": {},
     "output_type": "execute_result"
    }
   ],
   "source": [
    "id(a)"
   ]
  },
  {
   "cell_type": "code",
   "execution_count": 3,
   "id": "f0d21178",
   "metadata": {},
   "outputs": [
    {
     "data": {
      "text/plain": [
       "True"
      ]
     },
     "execution_count": 3,
     "metadata": {},
     "output_type": "execute_result"
    }
   ],
   "source": [
    "a > b and a >70"
   ]
  },
  {
   "cell_type": "code",
   "execution_count": 4,
   "id": "6f4a9c1b",
   "metadata": {},
   "outputs": [
    {
     "data": {
      "text/plain": [
       "False"
      ]
     },
     "execution_count": 4,
     "metadata": {},
     "output_type": "execute_result"
    }
   ],
   "source": [
    "a < b and a >70"
   ]
  },
  {
   "cell_type": "code",
   "execution_count": 5,
   "id": "684caa02",
   "metadata": {},
   "outputs": [
    {
     "data": {
      "text/plain": [
       "True"
      ]
     },
     "execution_count": 5,
     "metadata": {},
     "output_type": "execute_result"
    }
   ],
   "source": [
    "a < b or a > 70\n"
   ]
  },
  {
   "cell_type": "code",
   "execution_count": 7,
   "id": "5a3d5a65",
   "metadata": {},
   "outputs": [
    {
     "data": {
      "text/plain": [
       "False"
      ]
     },
     "execution_count": 7,
     "metadata": {},
     "output_type": "execute_result"
    }
   ],
   "source": [
    "a is b"
   ]
  },
  {
   "cell_type": "code",
   "execution_count": 68,
   "id": "500a958e",
   "metadata": {},
   "outputs": [
    {
     "data": {
      "text/plain": [
       "(90, 80)"
      ]
     },
     "execution_count": 68,
     "metadata": {},
     "output_type": "execute_result"
    }
   ],
   "source": [
    "a,b"
   ]
  },
  {
   "cell_type": "code",
   "execution_count": 8,
   "id": "6ec9288c",
   "metadata": {},
   "outputs": [
    {
     "data": {
      "text/plain": [
       "True"
      ]
     },
     "execution_count": 8,
     "metadata": {},
     "output_type": "execute_result"
    }
   ],
   "source": [
    "a is not b"
   ]
  },
  {
   "cell_type": "code",
   "execution_count": 9,
   "id": "ff20860f",
   "metadata": {},
   "outputs": [],
   "source": [
    "course = 'data science'"
   ]
  },
  {
   "cell_type": "code",
   "execution_count": 10,
   "id": "576a14ec",
   "metadata": {},
   "outputs": [
    {
     "data": {
      "text/plain": [
       "True"
      ]
     },
     "execution_count": 10,
     "metadata": {},
     "output_type": "execute_result"
    }
   ],
   "source": [
    "'d' in course\n"
   ]
  },
  {
   "cell_type": "code",
   "execution_count": 11,
   "id": "d31a4a49",
   "metadata": {},
   "outputs": [
    {
     "data": {
      "text/plain": [
       "False"
      ]
     },
     "execution_count": 11,
     "metadata": {},
     "output_type": "execute_result"
    }
   ],
   "source": [
    "'D' in course"
   ]
  },
  {
   "cell_type": "code",
   "execution_count": 12,
   "id": "c5fe1c94",
   "metadata": {},
   "outputs": [
    {
     "data": {
      "text/plain": [
       "True"
      ]
     },
     "execution_count": 12,
     "metadata": {},
     "output_type": "execute_result"
    }
   ],
   "source": [
    "' ' in course"
   ]
  },
  {
   "cell_type": "code",
   "execution_count": 13,
   "id": "914b7be4",
   "metadata": {},
   "outputs": [
    {
     "data": {
      "text/plain": [
       "True"
      ]
     },
     "execution_count": 13,
     "metadata": {},
     "output_type": "execute_result"
    }
   ],
   "source": [
    "'data' in course\n"
   ]
  },
  {
   "cell_type": "code",
   "execution_count": 69,
   "id": "b0af3c6c",
   "metadata": {},
   "outputs": [
    {
     "data": {
      "text/plain": [
       "True"
      ]
     },
     "execution_count": 69,
     "metadata": {},
     "output_type": "execute_result"
    }
   ],
   "source": [
    "'t' in course"
   ]
  },
  {
   "cell_type": "code",
   "execution_count": 14,
   "id": "a9622a66",
   "metadata": {},
   "outputs": [
    {
     "data": {
      "text/plain": [
       "True"
      ]
     },
     "execution_count": 14,
     "metadata": {},
     "output_type": "execute_result"
    }
   ],
   "source": [
    "'y' not in course"
   ]
  },
  {
   "cell_type": "code",
   "execution_count": 15,
   "id": "f2c69302",
   "metadata": {},
   "outputs": [],
   "source": [
    "#Integer\n",
    "pin_code = 110021"
   ]
  },
  {
   "cell_type": "code",
   "execution_count": 16,
   "id": "2d55bbb6",
   "metadata": {},
   "outputs": [
    {
     "data": {
      "text/plain": [
       "110021"
      ]
     },
     "execution_count": 16,
     "metadata": {},
     "output_type": "execute_result"
    }
   ],
   "source": [
    "pin_code\n"
   ]
  },
  {
   "cell_type": "code",
   "execution_count": 17,
   "id": "3b39e8e7",
   "metadata": {},
   "outputs": [
    {
     "data": {
      "text/plain": [
       "int"
      ]
     },
     "execution_count": 17,
     "metadata": {},
     "output_type": "execute_result"
    }
   ],
   "source": [
    "type(pin_code)"
   ]
  },
  {
   "cell_type": "code",
   "execution_count": 18,
   "id": "f572d8e1",
   "metadata": {},
   "outputs": [],
   "source": [
    "#string creation\n",
    "s = 'We are learning Python'\n",
    "s1 = \"we are learning Pyhton\"\n"
   ]
  },
  {
   "cell_type": "code",
   "execution_count": 19,
   "id": "485201ab",
   "metadata": {},
   "outputs": [
    {
     "data": {
      "text/plain": [
       "False"
      ]
     },
     "execution_count": 19,
     "metadata": {},
     "output_type": "execute_result"
    }
   ],
   "source": [
    "s == s1\n"
   ]
  },
  {
   "cell_type": "code",
   "execution_count": 20,
   "id": "ba9f8fe9",
   "metadata": {},
   "outputs": [
    {
     "ename": "SyntaxError",
     "evalue": "invalid syntax (1657889857.py, line 1)",
     "output_type": "error",
     "traceback": [
      "\u001b[1;36m  Cell \u001b[1;32mIn[20], line 1\u001b[1;36m\u001b[0m\n\u001b[1;33m    s2 = 'It's a laptop\u001b[0m\n\u001b[1;37m             ^\u001b[0m\n\u001b[1;31mSyntaxError\u001b[0m\u001b[1;31m:\u001b[0m invalid syntax\n"
     ]
    }
   ],
   "source": [
    "s2 = 'It's a laptop"
   ]
  },
  {
   "cell_type": "code",
   "execution_count": 21,
   "id": "36a5cd3b",
   "metadata": {},
   "outputs": [],
   "source": [
    "s2 = \"It's a laptop\""
   ]
  },
  {
   "cell_type": "code",
   "execution_count": 22,
   "id": "571f20c5",
   "metadata": {},
   "outputs": [
    {
     "data": {
      "text/plain": [
       "str"
      ]
     },
     "execution_count": 22,
     "metadata": {},
     "output_type": "execute_result"
    }
   ],
   "source": [
    "type(s2)"
   ]
  },
  {
   "cell_type": "code",
   "execution_count": 23,
   "id": "85296f6a",
   "metadata": {},
   "outputs": [
    {
     "data": {
      "text/plain": [
       "str"
      ]
     },
     "execution_count": 23,
     "metadata": {},
     "output_type": "execute_result"
    }
   ],
   "source": [
    "type(s)"
   ]
  },
  {
   "cell_type": "code",
   "execution_count": 24,
   "id": "08d28acb",
   "metadata": {},
   "outputs": [],
   "source": [
    "num = '100'"
   ]
  },
  {
   "cell_type": "code",
   "execution_count": 25,
   "id": "eea5bc3f",
   "metadata": {},
   "outputs": [
    {
     "data": {
      "text/plain": [
       "str"
      ]
     },
     "execution_count": 25,
     "metadata": {},
     "output_type": "execute_result"
    }
   ],
   "source": [
    "type(num)"
   ]
  },
  {
   "cell_type": "code",
   "execution_count": 26,
   "id": "01ccaeef",
   "metadata": {},
   "outputs": [
    {
     "data": {
      "text/plain": [
       "float"
      ]
     },
     "execution_count": 26,
     "metadata": {},
     "output_type": "execute_result"
    }
   ],
   "source": [
    "temp = 98.7\n",
    "type(temp)"
   ]
  },
  {
   "cell_type": "code",
   "execution_count": 27,
   "id": "f9ff287c",
   "metadata": {},
   "outputs": [],
   "source": [
    "c = True"
   ]
  },
  {
   "cell_type": "code",
   "execution_count": 28,
   "id": "00e6c033",
   "metadata": {},
   "outputs": [
    {
     "data": {
      "text/plain": [
       "bool"
      ]
     },
     "execution_count": 28,
     "metadata": {},
     "output_type": "execute_result"
    }
   ],
   "source": [
    "type(c)"
   ]
  },
  {
   "cell_type": "code",
   "execution_count": 29,
   "id": "4049c8c3",
   "metadata": {},
   "outputs": [
    {
     "ename": "NameError",
     "evalue": "name 'true' is not defined",
     "output_type": "error",
     "traceback": [
      "\u001b[1;31m---------------------------------------------------------------------------\u001b[0m",
      "\u001b[1;31mNameError\u001b[0m                                 Traceback (most recent call last)",
      "Cell \u001b[1;32mIn[29], line 1\u001b[0m\n\u001b[1;32m----> 1\u001b[0m d \u001b[38;5;241m=\u001b[39m \u001b[43mtrue\u001b[49m\n",
      "\u001b[1;31mNameError\u001b[0m: name 'true' is not defined"
     ]
    }
   ],
   "source": [
    "d = true\n"
   ]
  },
  {
   "cell_type": "code",
   "execution_count": 30,
   "id": "f64d381e",
   "metadata": {},
   "outputs": [],
   "source": [
    "d = False"
   ]
  },
  {
   "cell_type": "code",
   "execution_count": 31,
   "id": "905e48a5",
   "metadata": {},
   "outputs": [
    {
     "data": {
      "text/plain": [
       "bool"
      ]
     },
     "execution_count": 31,
     "metadata": {},
     "output_type": "execute_result"
    }
   ],
   "source": [
    "type(d)"
   ]
  },
  {
   "cell_type": "code",
   "execution_count": 32,
   "id": "f7944c5d",
   "metadata": {},
   "outputs": [
    {
     "data": {
      "text/plain": [
       "int"
      ]
     },
     "execution_count": 32,
     "metadata": {},
     "output_type": "execute_result"
    }
   ],
   "source": [
    "age = 60\n",
    "type(age)\n"
   ]
  },
  {
   "cell_type": "code",
   "execution_count": 33,
   "id": "581af4a8",
   "metadata": {},
   "outputs": [
    {
     "data": {
      "text/plain": [
       "'60'"
      ]
     },
     "execution_count": 33,
     "metadata": {},
     "output_type": "execute_result"
    }
   ],
   "source": [
    "str(age)"
   ]
  },
  {
   "cell_type": "code",
   "execution_count": 34,
   "id": "9de20174",
   "metadata": {},
   "outputs": [
    {
     "data": {
      "text/plain": [
       "60"
      ]
     },
     "execution_count": 34,
     "metadata": {},
     "output_type": "execute_result"
    }
   ],
   "source": [
    "age"
   ]
  },
  {
   "cell_type": "code",
   "execution_count": 35,
   "id": "1c80d539",
   "metadata": {},
   "outputs": [],
   "source": [
    "age = str(age)"
   ]
  },
  {
   "cell_type": "code",
   "execution_count": 36,
   "id": "5b3c76cf",
   "metadata": {},
   "outputs": [
    {
     "data": {
      "text/plain": [
       "str"
      ]
     },
     "execution_count": 36,
     "metadata": {},
     "output_type": "execute_result"
    }
   ],
   "source": [
    "type(age)"
   ]
  },
  {
   "cell_type": "code",
   "execution_count": 37,
   "id": "6c383692",
   "metadata": {},
   "outputs": [],
   "source": [
    "num = 10"
   ]
  },
  {
   "cell_type": "code",
   "execution_count": 38,
   "id": "bcda3d1a",
   "metadata": {},
   "outputs": [
    {
     "data": {
      "text/plain": [
       "10.0"
      ]
     },
     "execution_count": 38,
     "metadata": {},
     "output_type": "execute_result"
    }
   ],
   "source": [
    "float(num)"
   ]
  },
  {
   "cell_type": "code",
   "execution_count": 39,
   "id": "674b86aa",
   "metadata": {},
   "outputs": [
    {
     "data": {
      "text/plain": [
       "True"
      ]
     },
     "execution_count": 39,
     "metadata": {},
     "output_type": "execute_result"
    }
   ],
   "source": [
    "number = 10\n",
    "bool(number)"
   ]
  },
  {
   "cell_type": "code",
   "execution_count": 40,
   "id": "781df977",
   "metadata": {},
   "outputs": [
    {
     "data": {
      "text/plain": [
       "False"
      ]
     },
     "execution_count": 40,
     "metadata": {},
     "output_type": "execute_result"
    }
   ],
   "source": [
    "zero = 0\n",
    "bool(zero)"
   ]
  },
  {
   "cell_type": "raw",
   "id": "29811eb2",
   "metadata": {},
   "source": [
    "#create a string"
   ]
  },
  {
   "cell_type": "code",
   "execution_count": 41,
   "id": "714314a7",
   "metadata": {},
   "outputs": [
    {
     "data": {
      "text/plain": [
       "'We are learning pyhton'"
      ]
     },
     "execution_count": 41,
     "metadata": {},
     "output_type": "execute_result"
    }
   ],
   "source": [
    "s1.capitalize() #capitalizes the first char"
   ]
  },
  {
   "cell_type": "code",
   "execution_count": 42,
   "id": "7d2ae269",
   "metadata": {},
   "outputs": [
    {
     "data": {
      "text/plain": [
       "2"
      ]
     },
     "execution_count": 42,
     "metadata": {},
     "output_type": "execute_result"
    }
   ],
   "source": [
    "s1.count('a')"
   ]
  },
  {
   "cell_type": "code",
   "execution_count": 43,
   "id": "0691283c",
   "metadata": {},
   "outputs": [
    {
     "data": {
      "text/plain": [
       "3"
      ]
     },
     "execution_count": 43,
     "metadata": {},
     "output_type": "execute_result"
    }
   ],
   "source": [
    "s1.count(' ')"
   ]
  },
  {
   "cell_type": "code",
   "execution_count": 44,
   "id": "30873c50",
   "metadata": {},
   "outputs": [
    {
     "data": {
      "text/plain": [
       "True"
      ]
     },
     "execution_count": 44,
     "metadata": {},
     "output_type": "execute_result"
    }
   ],
   "source": [
    "s1.startswith('w')"
   ]
  },
  {
   "cell_type": "code",
   "execution_count": 46,
   "id": "f4b6be10",
   "metadata": {},
   "outputs": [
    {
     "data": {
      "text/plain": [
       "7"
      ]
     },
     "execution_count": 46,
     "metadata": {},
     "output_type": "execute_result"
    }
   ],
   "source": [
    "s.find('learning')"
   ]
  },
  {
   "cell_type": "code",
   "execution_count": 70,
   "id": "cddf7ade",
   "metadata": {},
   "outputs": [
    {
     "data": {
      "text/plain": [
       "True"
      ]
     },
     "execution_count": 70,
     "metadata": {},
     "output_type": "execute_result"
    }
   ],
   "source": [
    "s.endswith('n')"
   ]
  },
  {
   "cell_type": "code",
   "execution_count": 47,
   "id": "9e62777d",
   "metadata": {},
   "outputs": [
    {
     "data": {
      "text/plain": [
       "0"
      ]
     },
     "execution_count": 47,
     "metadata": {},
     "output_type": "execute_result"
    }
   ],
   "source": [
    "s.find('W')"
   ]
  },
  {
   "cell_type": "code",
   "execution_count": 48,
   "id": "a1acaffc",
   "metadata": {},
   "outputs": [
    {
     "data": {
      "text/plain": [
       "'They are learning Python'"
      ]
     },
     "execution_count": 48,
     "metadata": {},
     "output_type": "execute_result"
    }
   ],
   "source": [
    "s.replace('We','They')"
   ]
  },
  {
   "cell_type": "code",
   "execution_count": 49,
   "id": "a15c1cdb",
   "metadata": {},
   "outputs": [
    {
     "data": {
      "text/plain": [
       "'We are learning Python'"
      ]
     },
     "execution_count": 49,
     "metadata": {},
     "output_type": "execute_result"
    }
   ],
   "source": [
    "s\n"
   ]
  },
  {
   "cell_type": "code",
   "execution_count": 50,
   "id": "ff5e41c0",
   "metadata": {},
   "outputs": [],
   "source": [
    "s = s.replace('We','They')"
   ]
  },
  {
   "cell_type": "code",
   "execution_count": 51,
   "id": "9bc800e2",
   "metadata": {},
   "outputs": [
    {
     "data": {
      "text/plain": [
       "'They are learning Python'"
      ]
     },
     "execution_count": 51,
     "metadata": {},
     "output_type": "execute_result"
    }
   ],
   "source": [
    "s\n"
   ]
  },
  {
   "cell_type": "code",
   "execution_count": 52,
   "id": "39c5132b",
   "metadata": {},
   "outputs": [],
   "source": [
    "#join"
   ]
  },
  {
   "cell_type": "code",
   "execution_count": 53,
   "id": "59a9b5b0",
   "metadata": {},
   "outputs": [
    {
     "data": {
      "text/plain": [
       "'T-h-e-y- -a-r-e- -l-e-a-r-n-i-n-g- -P-y-t-h-o-n'"
      ]
     },
     "execution_count": 53,
     "metadata": {},
     "output_type": "execute_result"
    }
   ],
   "source": [
    "'-'.join(s)"
   ]
  },
  {
   "cell_type": "code",
   "execution_count": 54,
   "id": "df91d396",
   "metadata": {},
   "outputs": [],
   "source": [
    "#split"
   ]
  },
  {
   "cell_type": "code",
   "execution_count": 55,
   "id": "deb52cec",
   "metadata": {},
   "outputs": [
    {
     "data": {
      "text/plain": [
       "'They are learning Python'"
      ]
     },
     "execution_count": 55,
     "metadata": {},
     "output_type": "execute_result"
    }
   ],
   "source": [
    "s\n"
   ]
  },
  {
   "cell_type": "code",
   "execution_count": 56,
   "id": "ff83bfe3",
   "metadata": {},
   "outputs": [
    {
     "data": {
      "text/plain": [
       "['They', 'are', 'learning', 'Python']"
      ]
     },
     "execution_count": 56,
     "metadata": {},
     "output_type": "execute_result"
    }
   ],
   "source": [
    "s.split(' ')"
   ]
  },
  {
   "cell_type": "code",
   "execution_count": 57,
   "id": "7517ecea",
   "metadata": {},
   "outputs": [
    {
     "data": {
      "text/plain": [
       "'they are learning python'"
      ]
     },
     "execution_count": 57,
     "metadata": {},
     "output_type": "execute_result"
    }
   ],
   "source": [
    "s.lower()"
   ]
  },
  {
   "cell_type": "code",
   "execution_count": 58,
   "id": "a8e7033a",
   "metadata": {},
   "outputs": [
    {
     "data": {
      "text/plain": [
       "'THEY ARE LEARNING PYTHON'"
      ]
     },
     "execution_count": 58,
     "metadata": {},
     "output_type": "execute_result"
    }
   ],
   "source": [
    "s.upper()"
   ]
  },
  {
   "cell_type": "code",
   "execution_count": 60,
   "id": "724213bc",
   "metadata": {},
   "outputs": [
    {
     "data": {
      "text/plain": [
       "'T|h|e|y| |a|r|e| |l|e|a|r|n|i|n|g| |P|y|t|h|o|n'"
      ]
     },
     "execution_count": 60,
     "metadata": {},
     "output_type": "execute_result"
    }
   ],
   "source": [
    "'|'.join(s)"
   ]
  },
  {
   "cell_type": "code",
   "execution_count": 61,
   "id": "061a3b0e",
   "metadata": {},
   "outputs": [
    {
     "data": {
      "text/plain": [
       "'They are learning Python'"
      ]
     },
     "execution_count": 61,
     "metadata": {},
     "output_type": "execute_result"
    }
   ],
   "source": [
    "s"
   ]
  },
  {
   "cell_type": "code",
   "execution_count": 62,
   "id": "ddf91cd1",
   "metadata": {},
   "outputs": [
    {
     "data": {
      "text/plain": [
       "'This is frst line\\nThis is second line\\nThis is third line'"
      ]
     },
     "execution_count": 62,
     "metadata": {},
     "output_type": "execute_result"
    }
   ],
   "source": [
    "'''This is frst line\n",
    "This is second line\n",
    "This is third line'''"
   ]
  },
  {
   "cell_type": "code",
   "execution_count": 63,
   "id": "48d1e982",
   "metadata": {},
   "outputs": [
    {
     "name": "stdout",
     "output_type": "stream",
     "text": [
      "170\n",
      "10\n",
      "7200\n",
      "1.125\n",
      "10\n"
     ]
    }
   ],
   "source": [
    "print(a+b)\n",
    "print(a-b)\n",
    "print(a*b)\n",
    "print(a/b)\n",
    "print(a%b)"
   ]
  },
  {
   "cell_type": "code",
   "execution_count": 64,
   "id": "e739eeb1",
   "metadata": {},
   "outputs": [
    {
     "data": {
      "text/plain": [
       "True"
      ]
     },
     "execution_count": 64,
     "metadata": {},
     "output_type": "execute_result"
    }
   ],
   "source": [
    "a != b"
   ]
  },
  {
   "cell_type": "code",
   "execution_count": 65,
   "id": "f3959b00",
   "metadata": {},
   "outputs": [
    {
     "data": {
      "text/plain": [
       "False"
      ]
     },
     "execution_count": 65,
     "metadata": {},
     "output_type": "execute_result"
    }
   ],
   "source": [
    "a == b"
   ]
  },
  {
   "cell_type": "code",
   "execution_count": 66,
   "id": "970173f1",
   "metadata": {},
   "outputs": [
    {
     "data": {
      "text/plain": [
       "True"
      ]
     },
     "execution_count": 66,
     "metadata": {},
     "output_type": "execute_result"
    }
   ],
   "source": [
    "a > b"
   ]
  },
  {
   "cell_type": "code",
   "execution_count": 67,
   "id": "b4e7d549",
   "metadata": {},
   "outputs": [
    {
     "data": {
      "text/plain": [
       "False"
      ]
     },
     "execution_count": 67,
     "metadata": {},
     "output_type": "execute_result"
    }
   ],
   "source": [
    "a < b\n"
   ]
  },
  {
   "cell_type": "code",
   "execution_count": null,
   "id": "f9b7966a",
   "metadata": {},
   "outputs": [],
   "source": []
  }
 ],
 "metadata": {
  "kernelspec": {
   "display_name": "Python 3 (ipykernel)",
   "language": "python",
   "name": "python3"
  },
  "language_info": {
   "codemirror_mode": {
    "name": "ipython",
    "version": 3
   },
   "file_extension": ".py",
   "mimetype": "text/x-python",
   "name": "python",
   "nbconvert_exporter": "python",
   "pygments_lexer": "ipython3",
   "version": "3.10.9"
  }
 },
 "nbformat": 4,
 "nbformat_minor": 5
}
