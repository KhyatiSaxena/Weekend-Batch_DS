{
 "cells": [
  {
   "cell_type": "code",
   "execution_count": 1,
   "id": "463b921d",
   "metadata": {},
   "outputs": [],
   "source": [
    "#creating Lists"
   ]
  },
  {
   "cell_type": "code",
   "execution_count": 2,
   "id": "685d9c49",
   "metadata": {},
   "outputs": [
    {
     "data": {
      "text/plain": [
       "list"
      ]
     },
     "execution_count": 2,
     "metadata": {},
     "output_type": "execute_result"
    }
   ],
   "source": [
    "lst = []\n",
    "type(lst)"
   ]
  },
  {
   "cell_type": "code",
   "execution_count": 3,
   "id": "48242c87",
   "metadata": {},
   "outputs": [
    {
     "ename": "NameError",
     "evalue": "name 'DS' is not defined",
     "output_type": "error",
     "traceback": [
      "\u001b[1;31m---------------------------------------------------------------------------\u001b[0m",
      "\u001b[1;31mNameError\u001b[0m                                 Traceback (most recent call last)",
      "Cell \u001b[1;32mIn[3], line 1\u001b[0m\n\u001b[1;32m----> 1\u001b[0m lst \u001b[38;5;241m=\u001b[39m [\u001b[38;5;124m'\u001b[39m\u001b[38;5;124mABC\u001b[39m\u001b[38;5;124m'\u001b[39m,\u001b[38;5;241m25\u001b[39m,\u001b[38;5;124m'\u001b[39m\u001b[38;5;124mPune\u001b[39m\u001b[38;5;124m'\u001b[39m,\u001b[43mDS\u001b[49m,\u001b[38;5;28;01mTrue\u001b[39;00m]\n",
      "\u001b[1;31mNameError\u001b[0m: name 'DS' is not defined"
     ]
    }
   ],
   "source": [
    "lst = ['ABC',25,'Pune',DS,True]"
   ]
  },
  {
   "cell_type": "code",
   "execution_count": 4,
   "id": "b200daf8",
   "metadata": {},
   "outputs": [],
   "source": [
    "lst = ['ABC',25,'Pune','DS',True]"
   ]
  },
  {
   "cell_type": "code",
   "execution_count": 5,
   "id": "56fb6dc5",
   "metadata": {},
   "outputs": [
    {
     "data": {
      "text/plain": [
       "['ABC', 25, 'Pune', 'DS', True]"
      ]
     },
     "execution_count": 5,
     "metadata": {},
     "output_type": "execute_result"
    }
   ],
   "source": [
    "lst\n"
   ]
  },
  {
   "cell_type": "code",
   "execution_count": 6,
   "id": "e727ca1b",
   "metadata": {},
   "outputs": [
    {
     "data": {
      "text/plain": [
       "25"
      ]
     },
     "execution_count": 6,
     "metadata": {},
     "output_type": "execute_result"
    }
   ],
   "source": [
    "lst[1]"
   ]
  },
  {
   "cell_type": "code",
   "execution_count": 7,
   "id": "a0e493fe",
   "metadata": {},
   "outputs": [
    {
     "data": {
      "text/plain": [
       "['Pune', 'DS', True]"
      ]
     },
     "execution_count": 7,
     "metadata": {},
     "output_type": "execute_result"
    }
   ],
   "source": [
    "lst[2:5]"
   ]
  },
  {
   "cell_type": "code",
   "execution_count": 8,
   "id": "76a1cfea",
   "metadata": {},
   "outputs": [
    {
     "data": {
      "text/plain": [
       "['Pune', 'DS']"
      ]
     },
     "execution_count": 8,
     "metadata": {},
     "output_type": "execute_result"
    }
   ],
   "source": [
    "lst[2:4]"
   ]
  },
  {
   "cell_type": "code",
   "execution_count": 9,
   "id": "31827040",
   "metadata": {},
   "outputs": [
    {
     "data": {
      "text/plain": [
       "['Pune', 'DS', True]"
      ]
     },
     "execution_count": 9,
     "metadata": {},
     "output_type": "execute_result"
    }
   ],
   "source": [
    "lst[2:]"
   ]
  },
  {
   "cell_type": "code",
   "execution_count": 10,
   "id": "d01e4440",
   "metadata": {},
   "outputs": [
    {
     "data": {
      "text/plain": [
       "['ABC', 25, 'Pune']"
      ]
     },
     "execution_count": 10,
     "metadata": {},
     "output_type": "execute_result"
    }
   ],
   "source": [
    "lst[:3]"
   ]
  },
  {
   "cell_type": "code",
   "execution_count": 11,
   "id": "a1601104",
   "metadata": {},
   "outputs": [],
   "source": [
    "lst.append(5.5)"
   ]
  },
  {
   "cell_type": "code",
   "execution_count": 12,
   "id": "e350f048",
   "metadata": {},
   "outputs": [
    {
     "data": {
      "text/plain": [
       "['ABC', 25, 'Pune', 'DS', True, 5.5]"
      ]
     },
     "execution_count": 12,
     "metadata": {},
     "output_type": "execute_result"
    }
   ],
   "source": [
    "lst"
   ]
  },
  {
   "cell_type": "code",
   "execution_count": 13,
   "id": "6e77af03",
   "metadata": {},
   "outputs": [],
   "source": [
    "#Count"
   ]
  },
  {
   "cell_type": "code",
   "execution_count": 14,
   "id": "4ec5f15c",
   "metadata": {},
   "outputs": [
    {
     "data": {
      "text/plain": [
       "1"
      ]
     },
     "execution_count": 14,
     "metadata": {},
     "output_type": "execute_result"
    }
   ],
   "source": [
    "lst.count('Pune')"
   ]
  },
  {
   "cell_type": "code",
   "execution_count": 15,
   "id": "c5965303",
   "metadata": {},
   "outputs": [
    {
     "ename": "AttributeError",
     "evalue": "'list' object has no attribute 'Index'",
     "output_type": "error",
     "traceback": [
      "\u001b[1;31m---------------------------------------------------------------------------\u001b[0m",
      "\u001b[1;31mAttributeError\u001b[0m                            Traceback (most recent call last)",
      "Cell \u001b[1;32mIn[15], line 2\u001b[0m\n\u001b[0;32m      1\u001b[0m \u001b[38;5;66;03m#Index\u001b[39;00m\n\u001b[1;32m----> 2\u001b[0m \u001b[43mlst\u001b[49m\u001b[38;5;241;43m.\u001b[39;49m\u001b[43mIndex\u001b[49m(\u001b[38;5;241m5.5\u001b[39m)\n",
      "\u001b[1;31mAttributeError\u001b[0m: 'list' object has no attribute 'Index'"
     ]
    }
   ],
   "source": [
    "#Index\n",
    "lst.Index(5.5)"
   ]
  },
  {
   "cell_type": "code",
   "execution_count": 16,
   "id": "90f98222",
   "metadata": {},
   "outputs": [
    {
     "data": {
      "text/plain": [
       "5"
      ]
     },
     "execution_count": 16,
     "metadata": {},
     "output_type": "execute_result"
    }
   ],
   "source": [
    "lst.index(5.5)"
   ]
  },
  {
   "cell_type": "code",
   "execution_count": 17,
   "id": "5fbfbc11",
   "metadata": {},
   "outputs": [],
   "source": [
    "#insert\n",
    "lst.insert(0,'DA')"
   ]
  },
  {
   "cell_type": "code",
   "execution_count": 18,
   "id": "929c4ddf",
   "metadata": {},
   "outputs": [
    {
     "data": {
      "text/plain": [
       "['DA', 'ABC', 25, 'Pune', 'DS', True, 5.5]"
      ]
     },
     "execution_count": 18,
     "metadata": {},
     "output_type": "execute_result"
    }
   ],
   "source": [
    "lst"
   ]
  },
  {
   "cell_type": "code",
   "execution_count": 19,
   "id": "fa189aed",
   "metadata": {},
   "outputs": [
    {
     "data": {
      "text/plain": [
       "5.5"
      ]
     },
     "execution_count": 19,
     "metadata": {},
     "output_type": "execute_result"
    }
   ],
   "source": [
    "#pop removes the last item\n",
    "lst.pop()"
   ]
  },
  {
   "cell_type": "code",
   "execution_count": 20,
   "id": "a86348f4",
   "metadata": {},
   "outputs": [
    {
     "data": {
      "text/plain": [
       "['DA', 'ABC', 25, 'Pune', 'DS', True]"
      ]
     },
     "execution_count": 20,
     "metadata": {},
     "output_type": "execute_result"
    }
   ],
   "source": [
    "lst\n"
   ]
  },
  {
   "cell_type": "code",
   "execution_count": 21,
   "id": "00e8bdf6",
   "metadata": {},
   "outputs": [],
   "source": [
    "#reverse\n",
    "lst.reverse()"
   ]
  },
  {
   "cell_type": "code",
   "execution_count": 22,
   "id": "6c1a6f49",
   "metadata": {},
   "outputs": [
    {
     "data": {
      "text/plain": [
       "[True, 'DS', 'Pune', 25, 'ABC', 'DA']"
      ]
     },
     "execution_count": 22,
     "metadata": {},
     "output_type": "execute_result"
    }
   ],
   "source": [
    "lst"
   ]
  },
  {
   "cell_type": "code",
   "execution_count": 23,
   "id": "eb98afc6",
   "metadata": {},
   "outputs": [],
   "source": [
    "#remove deletes any specific value from list\n",
    "lst.remove('DA')"
   ]
  },
  {
   "cell_type": "code",
   "execution_count": 24,
   "id": "bd93bdc0",
   "metadata": {},
   "outputs": [
    {
     "data": {
      "text/plain": [
       "[True, 'DS', 'Pune', 25, 'ABC']"
      ]
     },
     "execution_count": 24,
     "metadata": {},
     "output_type": "execute_result"
    }
   ],
   "source": [
    "lst\n"
   ]
  },
  {
   "cell_type": "code",
   "execution_count": 25,
   "id": "8ce1c0f8",
   "metadata": {},
   "outputs": [
    {
     "data": {
      "text/plain": [
       "[True, 'DS', 'Pune', 900, 'ABC']"
      ]
     },
     "execution_count": 25,
     "metadata": {},
     "output_type": "execute_result"
    }
   ],
   "source": [
    "#replacing elements in lists\n",
    "lst[3] = 900\n",
    "lst"
   ]
  },
  {
   "cell_type": "code",
   "execution_count": 26,
   "id": "a1812dfb",
   "metadata": {},
   "outputs": [
    {
     "data": {
      "text/plain": [
       "tuple"
      ]
     },
     "execution_count": 26,
     "metadata": {},
     "output_type": "execute_result"
    }
   ],
   "source": [
    "#Tuples\n",
    "#create a Tuple \n",
    "\n",
    "t = ()\n",
    "type(t)"
   ]
  },
  {
   "cell_type": "code",
   "execution_count": 27,
   "id": "40781cae",
   "metadata": {},
   "outputs": [],
   "source": [
    "t = ('STR',False,10.0,500)"
   ]
  },
  {
   "cell_type": "code",
   "execution_count": 28,
   "id": "876cbbe7",
   "metadata": {},
   "outputs": [
    {
     "data": {
      "text/plain": [
       "1"
      ]
     },
     "execution_count": 28,
     "metadata": {},
     "output_type": "execute_result"
    }
   ],
   "source": [
    "t.count(False)"
   ]
  },
  {
   "cell_type": "code",
   "execution_count": 29,
   "id": "9da4afde",
   "metadata": {},
   "outputs": [
    {
     "data": {
      "text/plain": [
       "2"
      ]
     },
     "execution_count": 29,
     "metadata": {},
     "output_type": "execute_result"
    }
   ],
   "source": [
    "t.index(10.0)"
   ]
  },
  {
   "cell_type": "code",
   "execution_count": 30,
   "id": "dae22945",
   "metadata": {},
   "outputs": [
    {
     "data": {
      "text/plain": [
       "(False, 10.0, 500)"
      ]
     },
     "execution_count": 30,
     "metadata": {},
     "output_type": "execute_result"
    }
   ],
   "source": [
    "#accessing elements\n",
    "t[1:]"
   ]
  },
  {
   "cell_type": "code",
   "execution_count": 31,
   "id": "f3f09594",
   "metadata": {},
   "outputs": [
    {
     "data": {
      "text/plain": [
       "'STR'"
      ]
     },
     "execution_count": 31,
     "metadata": {},
     "output_type": "execute_result"
    }
   ],
   "source": [
    "t[0]"
   ]
  },
  {
   "cell_type": "code",
   "execution_count": 32,
   "id": "115e9c9d",
   "metadata": {},
   "outputs": [
    {
     "ename": "SyntaxError",
     "evalue": "invalid syntax (2939620616.py, line 4)",
     "output_type": "error",
     "traceback": [
      "\u001b[1;36m  Cell \u001b[1;32mIn[32], line 4\u001b[1;36m\u001b[0m\n\u001b[1;33m    d{}\u001b[0m\n\u001b[1;37m     ^\u001b[0m\n\u001b[1;31mSyntaxError\u001b[0m\u001b[1;31m:\u001b[0m invalid syntax\n"
     ]
    }
   ],
   "source": [
    "#Dictionary \n",
    "#create\n",
    "\n",
    "d{}\n",
    "type(d)"
   ]
  },
  {
   "cell_type": "code",
   "execution_count": 33,
   "id": "5750c6e9",
   "metadata": {},
   "outputs": [
    {
     "data": {
      "text/plain": [
       "dict"
      ]
     },
     "execution_count": 33,
     "metadata": {},
     "output_type": "execute_result"
    }
   ],
   "source": [
    "d = {}\n",
    "type(d)"
   ]
  },
  {
   "cell_type": "code",
   "execution_count": 34,
   "id": "c9e1dc4c",
   "metadata": {},
   "outputs": [],
   "source": [
    "d = {'Name': 'ABC','Dept' : 'HR', 'Age' : 25 ,'Loc' : 'Pune','ID' : True }"
   ]
  },
  {
   "cell_type": "code",
   "execution_count": 35,
   "id": "8e361495",
   "metadata": {},
   "outputs": [
    {
     "data": {
      "text/plain": [
       "{'Name': 'ABC', 'Dept': 'HR', 'Age': 25, 'Loc': 'Pune', 'ID': True}"
      ]
     },
     "execution_count": 35,
     "metadata": {},
     "output_type": "execute_result"
    }
   ],
   "source": [
    "d"
   ]
  },
  {
   "cell_type": "code",
   "execution_count": 36,
   "id": "5d64891c",
   "metadata": {},
   "outputs": [
    {
     "data": {
      "text/plain": [
       "'ABC'"
      ]
     },
     "execution_count": 36,
     "metadata": {},
     "output_type": "execute_result"
    }
   ],
   "source": [
    "#get\n",
    "\n",
    "d.get('Name')"
   ]
  },
  {
   "cell_type": "code",
   "execution_count": 37,
   "id": "c49c6d3f",
   "metadata": {},
   "outputs": [
    {
     "data": {
      "text/plain": [
       "dict_items([('Name', 'ABC'), ('Dept', 'HR'), ('Age', 25), ('Loc', 'Pune'), ('ID', True)])"
      ]
     },
     "execution_count": 37,
     "metadata": {},
     "output_type": "execute_result"
    }
   ],
   "source": [
    "#items\n",
    "\n",
    "d.items()"
   ]
  },
  {
   "cell_type": "code",
   "execution_count": 38,
   "id": "24db19f6",
   "metadata": {},
   "outputs": [
    {
     "data": {
      "text/plain": [
       "dict_keys(['Name', 'Dept', 'Age', 'Loc', 'ID'])"
      ]
     },
     "execution_count": 38,
     "metadata": {},
     "output_type": "execute_result"
    }
   ],
   "source": [
    "#keys\n",
    "\n",
    "d.keys()"
   ]
  },
  {
   "cell_type": "code",
   "execution_count": 41,
   "id": "499dccc0",
   "metadata": {},
   "outputs": [],
   "source": [
    "#adding values in dictionary\n",
    "d.update({'Car' : 'Honda'})"
   ]
  },
  {
   "cell_type": "code",
   "execution_count": 42,
   "id": "80bad38f",
   "metadata": {},
   "outputs": [
    {
     "data": {
      "text/plain": [
       "{'Name': 'ABC',\n",
       " 'Dept': 'HR',\n",
       " 'Age': 25,\n",
       " 'Loc': 'Pune',\n",
       " 'ID': True,\n",
       " 'Car': 'Honda'}"
      ]
     },
     "execution_count": 42,
     "metadata": {},
     "output_type": "execute_result"
    }
   ],
   "source": [
    "d\n"
   ]
  },
  {
   "cell_type": "code",
   "execution_count": 43,
   "id": "92cda36a",
   "metadata": {},
   "outputs": [
    {
     "data": {
      "text/plain": [
       "True"
      ]
     },
     "execution_count": 43,
     "metadata": {},
     "output_type": "execute_result"
    }
   ],
   "source": [
    "#pop\n",
    "\n",
    "d.pop('ID')"
   ]
  },
  {
   "cell_type": "code",
   "execution_count": 44,
   "id": "6c6531d0",
   "metadata": {},
   "outputs": [
    {
     "data": {
      "text/plain": [
       "{'Name': 'ABC', 'Dept': 'HR', 'Age': 25, 'Loc': 'Pune', 'Car': 'Honda'}"
      ]
     },
     "execution_count": 44,
     "metadata": {},
     "output_type": "execute_result"
    }
   ],
   "source": [
    "d"
   ]
  },
  {
   "cell_type": "code",
   "execution_count": 45,
   "id": "155c7fbd",
   "metadata": {},
   "outputs": [
    {
     "data": {
      "text/plain": [
       "dict_values(['ABC', 'HR', 25, 'Pune', 'Honda'])"
      ]
     },
     "execution_count": 45,
     "metadata": {},
     "output_type": "execute_result"
    }
   ],
   "source": [
    "#values\n",
    "\n",
    "d.values()"
   ]
  },
  {
   "cell_type": "code",
   "execution_count": 46,
   "id": "4aeefbec",
   "metadata": {},
   "outputs": [],
   "source": [
    "#Set \n",
    "#create\n",
    "\n",
    "s={1,10,25,True,'str'}"
   ]
  },
  {
   "cell_type": "code",
   "execution_count": 47,
   "id": "92470e7e",
   "metadata": {},
   "outputs": [
    {
     "data": {
      "text/plain": [
       "set"
      ]
     },
     "execution_count": 47,
     "metadata": {},
     "output_type": "execute_result"
    }
   ],
   "source": [
    "type(s)"
   ]
  },
  {
   "cell_type": "code",
   "execution_count": 48,
   "id": "b32f2b5d",
   "metadata": {},
   "outputs": [],
   "source": [
    "#no duplicates\n",
    "\n",
    "s= {10,10,10,22,32,True}"
   ]
  },
  {
   "cell_type": "code",
   "execution_count": 49,
   "id": "9101ef62",
   "metadata": {},
   "outputs": [
    {
     "data": {
      "text/plain": [
       "{True, 10, 22, 32}"
      ]
     },
     "execution_count": 49,
     "metadata": {},
     "output_type": "execute_result"
    }
   ],
   "source": [
    "s"
   ]
  },
  {
   "cell_type": "code",
   "execution_count": 50,
   "id": "214ee695",
   "metadata": {},
   "outputs": [
    {
     "data": {
      "text/plain": [
       "{True, 10, 22, 32}"
      ]
     },
     "execution_count": 50,
     "metadata": {},
     "output_type": "execute_result"
    }
   ],
   "source": [
    "s"
   ]
  },
  {
   "cell_type": "code",
   "execution_count": 51,
   "id": "97f74a92",
   "metadata": {},
   "outputs": [],
   "source": [
    "s.add('ABC')"
   ]
  },
  {
   "cell_type": "code",
   "execution_count": 52,
   "id": "5516454f",
   "metadata": {},
   "outputs": [
    {
     "data": {
      "text/plain": [
       "{10, 22, 32, 'ABC', True}"
      ]
     },
     "execution_count": 52,
     "metadata": {},
     "output_type": "execute_result"
    }
   ],
   "source": [
    "s"
   ]
  },
  {
   "cell_type": "code",
   "execution_count": 53,
   "id": "98b785f1",
   "metadata": {},
   "outputs": [],
   "source": [
    "a = {'apple','mango','cherry'}\n",
    "b = {'micro','google','cherry'}"
   ]
  },
  {
   "cell_type": "code",
   "execution_count": 54,
   "id": "12d16447",
   "metadata": {},
   "outputs": [
    {
     "data": {
      "text/plain": [
       "{'apple', 'mango'}"
      ]
     },
     "execution_count": 54,
     "metadata": {},
     "output_type": "execute_result"
    }
   ],
   "source": [
    "a.difference(b)"
   ]
  },
  {
   "cell_type": "code",
   "execution_count": 55,
   "id": "b75b9c82",
   "metadata": {},
   "outputs": [
    {
     "data": {
      "text/plain": [
       "{'cherry'}"
      ]
     },
     "execution_count": 55,
     "metadata": {},
     "output_type": "execute_result"
    }
   ],
   "source": [
    "a.intersection(b)"
   ]
  },
  {
   "cell_type": "code",
   "execution_count": 56,
   "id": "12a0cb16",
   "metadata": {},
   "outputs": [
    {
     "data": {
      "text/plain": [
       "{'apple', 'cherry', 'google', 'mango', 'micro'}"
      ]
     },
     "execution_count": 56,
     "metadata": {},
     "output_type": "execute_result"
    }
   ],
   "source": [
    "a.union(b)"
   ]
  },
  {
   "cell_type": "code",
   "execution_count": 57,
   "id": "be551bf7",
   "metadata": {},
   "outputs": [
    {
     "data": {
      "text/plain": [
       "'mango'"
      ]
     },
     "execution_count": 57,
     "metadata": {},
     "output_type": "execute_result"
    }
   ],
   "source": [
    "#pop\n",
    "\n",
    "a.pop()"
   ]
  },
  {
   "cell_type": "code",
   "execution_count": 58,
   "id": "24bfd0e9",
   "metadata": {},
   "outputs": [
    {
     "data": {
      "text/plain": [
       "{'apple', 'cherry'}"
      ]
     },
     "execution_count": 58,
     "metadata": {},
     "output_type": "execute_result"
    }
   ],
   "source": [
    "a"
   ]
  },
  {
   "cell_type": "code",
   "execution_count": 60,
   "id": "2df2c3df",
   "metadata": {},
   "outputs": [
    {
     "ename": "KeyError",
     "evalue": "'NAME'",
     "output_type": "error",
     "traceback": [
      "\u001b[1;31m---------------------------------------------------------------------------\u001b[0m",
      "\u001b[1;31mKeyError\u001b[0m                                  Traceback (most recent call last)",
      "Cell \u001b[1;32mIn[60], line 1\u001b[0m\n\u001b[1;32m----> 1\u001b[0m d[\u001b[38;5;124m'\u001b[39m\u001b[38;5;124mName\u001b[39m\u001b[38;5;124m'\u001b[39m] \u001b[38;5;241m=\u001b[39m \u001b[43md\u001b[49m\u001b[43m[\u001b[49m\u001b[38;5;124;43m'\u001b[39;49m\u001b[38;5;124;43mNAME\u001b[39;49m\u001b[38;5;124;43m'\u001b[39;49m\u001b[43m]\u001b[49m\n",
      "\u001b[1;31mKeyError\u001b[0m: 'NAME'"
     ]
    }
   ],
   "source": [
    "d['Name'] = d['NAME']"
   ]
  },
  {
   "cell_type": "code",
   "execution_count": 61,
   "id": "d967853e",
   "metadata": {},
   "outputs": [
    {
     "data": {
      "text/plain": [
       "{'Name': 'ABC', 'Dept': 'HR', 'Age': 25, 'Loc': 'Pune', 'Car': 'Honda'}"
      ]
     },
     "execution_count": 61,
     "metadata": {},
     "output_type": "execute_result"
    }
   ],
   "source": [
    "d"
   ]
  },
  {
   "cell_type": "code",
   "execution_count": 62,
   "id": "cf06a549",
   "metadata": {},
   "outputs": [
    {
     "ename": "KeyError",
     "evalue": "'NAME'",
     "output_type": "error",
     "traceback": [
      "\u001b[1;31m---------------------------------------------------------------------------\u001b[0m",
      "\u001b[1;31mKeyError\u001b[0m                                  Traceback (most recent call last)",
      "Cell \u001b[1;32mIn[62], line 1\u001b[0m\n\u001b[1;32m----> 1\u001b[0m d[\u001b[38;5;124m'\u001b[39m\u001b[38;5;124mName\u001b[39m\u001b[38;5;124m'\u001b[39m] \u001b[38;5;241m=\u001b[39m \u001b[43md\u001b[49m\u001b[43m[\u001b[49m\u001b[38;5;124;43m'\u001b[39;49m\u001b[38;5;124;43mNAME\u001b[39;49m\u001b[38;5;124;43m'\u001b[39;49m\u001b[43m]\u001b[49m\n",
      "\u001b[1;31mKeyError\u001b[0m: 'NAME'"
     ]
    }
   ],
   "source": [
    "d['Name'] = d['NAME']"
   ]
  },
  {
   "cell_type": "code",
   "execution_count": 63,
   "id": "d1192912",
   "metadata": {},
   "outputs": [],
   "source": [
    "d['NAME'] = d['Name']"
   ]
  },
  {
   "cell_type": "code",
   "execution_count": 64,
   "id": "d6de98f4",
   "metadata": {},
   "outputs": [
    {
     "data": {
      "text/plain": [
       "{'Name': 'ABC',\n",
       " 'Dept': 'HR',\n",
       " 'Age': 25,\n",
       " 'Loc': 'Pune',\n",
       " 'Car': 'Honda',\n",
       " 'NAME': 'ABC'}"
      ]
     },
     "execution_count": 64,
     "metadata": {},
     "output_type": "execute_result"
    }
   ],
   "source": [
    "d\n"
   ]
  },
  {
   "cell_type": "code",
   "execution_count": 65,
   "id": "30e48457",
   "metadata": {},
   "outputs": [
    {
     "data": {
      "text/plain": [
       "'ABC'"
      ]
     },
     "execution_count": 65,
     "metadata": {},
     "output_type": "execute_result"
    }
   ],
   "source": [
    "d.pop('Name')"
   ]
  },
  {
   "cell_type": "code",
   "execution_count": 66,
   "id": "22ef233e",
   "metadata": {},
   "outputs": [
    {
     "data": {
      "text/plain": [
       "{'Dept': 'HR', 'Age': 25, 'Loc': 'Pune', 'Car': 'Honda', 'NAME': 'ABC'}"
      ]
     },
     "execution_count": 66,
     "metadata": {},
     "output_type": "execute_result"
    }
   ],
   "source": [
    "d"
   ]
  },
  {
   "cell_type": "code",
   "execution_count": 67,
   "id": "ff68f2d3",
   "metadata": {},
   "outputs": [],
   "source": [
    "#basic function"
   ]
  },
  {
   "cell_type": "code",
   "execution_count": 68,
   "id": "7833ae6e",
   "metadata": {},
   "outputs": [],
   "source": [
    "def basic_function() :\n",
    "    print('this is user def function')"
   ]
  },
  {
   "cell_type": "code",
   "execution_count": 69,
   "id": "6a8482c9",
   "metadata": {},
   "outputs": [
    {
     "name": "stdout",
     "output_type": "stream",
     "text": [
      "this is user def function\n"
     ]
    }
   ],
   "source": [
    "basic_function()"
   ]
  },
  {
   "cell_type": "code",
   "execution_count": 70,
   "id": "be0fe9d1",
   "metadata": {},
   "outputs": [],
   "source": [
    "#Docstring adding documentation\n",
    "\n",
    "def func():\n",
    "    '\"This function prints 10\"'\n",
    "    print(10)"
   ]
  },
  {
   "cell_type": "code",
   "execution_count": 71,
   "id": "fb837422",
   "metadata": {},
   "outputs": [
    {
     "name": "stdout",
     "output_type": "stream",
     "text": [
      "10\n"
     ]
    }
   ],
   "source": [
    "func()"
   ]
  },
  {
   "cell_type": "code",
   "execution_count": 74,
   "id": "e4740b47",
   "metadata": {},
   "outputs": [],
   "source": [
    "#write a python function which will return max number\n",
    "\n",
    "def max_func(num1,num2):\n",
    "    '\"This function will return maximum out of 2 numbers\"'\n",
    "    return max(num1,num2)"
   ]
  },
  {
   "cell_type": "code",
   "execution_count": 75,
   "id": "30cf5aac",
   "metadata": {},
   "outputs": [
    {
     "data": {
      "text/plain": [
       "10"
      ]
     },
     "execution_count": 75,
     "metadata": {},
     "output_type": "execute_result"
    }
   ],
   "source": [
    "max_func(5,10)"
   ]
  },
  {
   "cell_type": "code",
   "execution_count": 76,
   "id": "d8d8bb9e",
   "metadata": {},
   "outputs": [],
   "source": [
    "#*args\n",
    "\n",
    "def max_num(*num):\n",
    "    return max(num)"
   ]
  },
  {
   "cell_type": "code",
   "execution_count": 77,
   "id": "6d3ce210",
   "metadata": {},
   "outputs": [
    {
     "data": {
      "text/plain": [
       "12"
      ]
     },
     "execution_count": 77,
     "metadata": {},
     "output_type": "execute_result"
    }
   ],
   "source": [
    "max_num(5,10,12)"
   ]
  },
  {
   "cell_type": "code",
   "execution_count": 95,
   "id": "755fec7c",
   "metadata": {},
   "outputs": [
    {
     "data": {
      "text/plain": [
       "1100"
      ]
     },
     "execution_count": 95,
     "metadata": {},
     "output_type": "execute_result"
    }
   ],
   "source": [
    "max_num(100,20,300,400,500,897,900,1100)"
   ]
  },
  {
   "cell_type": "code",
   "execution_count": 78,
   "id": "f2d96ec5",
   "metadata": {},
   "outputs": [],
   "source": [
    "#Loops"
   ]
  },
  {
   "cell_type": "code",
   "execution_count": 81,
   "id": "92625d91",
   "metadata": {},
   "outputs": [
    {
     "name": "stdout",
     "output_type": "stream",
     "text": [
      "0 Python\n",
      "1 Python\n",
      "2 Python\n",
      "3 Python\n",
      "4 Python\n",
      "5 Python\n",
      "6 Python\n",
      "7 Python\n",
      "8 Python\n",
      "9 Python\n",
      "func completed\n"
     ]
    }
   ],
   "source": [
    "#While Loop\n",
    "\n",
    "i = 0\n",
    "\n",
    "while i < 10:\n",
    "    \n",
    "    print(i,'Python')\n",
    "    i =  i + 1\n",
    "\n",
    "print('func completed')\n",
    "    "
   ]
  },
  {
   "cell_type": "code",
   "execution_count": 96,
   "id": "8856cd73",
   "metadata": {},
   "outputs": [
    {
     "name": "stdout",
     "output_type": "stream",
     "text": [
      "You have taken:  0\n",
      "You have taken:  1\n",
      "You have taken:  2\n",
      "You have taken:  3\n",
      "You have taken:  4\n",
      "You have taken:  5\n",
      "You have reached the top\n"
     ]
    }
   ],
   "source": [
    "steps = 0\n",
    "\n",
    "while steps <= 5:\n",
    "    print('You have taken: ' ,steps)\n",
    "    steps = steps + 1\n",
    "print('You have reached the top')"
   ]
  },
  {
   "cell_type": "code",
   "execution_count": 82,
   "id": "5bec9df4",
   "metadata": {},
   "outputs": [],
   "source": [
    "#For Loop"
   ]
  },
  {
   "cell_type": "code",
   "execution_count": 83,
   "id": "6a58562e",
   "metadata": {},
   "outputs": [
    {
     "data": {
      "text/plain": [
       "[1, 3, 5, 7, 9]"
      ]
     },
     "execution_count": 83,
     "metadata": {},
     "output_type": "execute_result"
    }
   ],
   "source": [
    "#range\n",
    "\n",
    "r = range(1,10,2)\n",
    "list(r)"
   ]
  },
  {
   "cell_type": "code",
   "execution_count": 84,
   "id": "9aca612e",
   "metadata": {},
   "outputs": [],
   "source": [
    "r = range(1,10)"
   ]
  },
  {
   "cell_type": "code",
   "execution_count": 85,
   "id": "2186a59d",
   "metadata": {},
   "outputs": [
    {
     "data": {
      "text/plain": [
       "[1, 2, 3, 4, 5, 6, 7, 8, 9]"
      ]
     },
     "execution_count": 85,
     "metadata": {},
     "output_type": "execute_result"
    }
   ],
   "source": [
    "list(r)"
   ]
  },
  {
   "cell_type": "code",
   "execution_count": 86,
   "id": "140066b7",
   "metadata": {},
   "outputs": [
    {
     "name": "stdout",
     "output_type": "stream",
     "text": [
      "1\n",
      "2\n",
      "3\n",
      "4\n",
      "5\n",
      "6\n",
      "7\n",
      "8\n",
      "9\n",
      "10\n"
     ]
    }
   ],
   "source": [
    "lst1 = []\n",
    "\n",
    "for i in range(1,11):\n",
    "    print(i)"
   ]
  },
  {
   "cell_type": "code",
   "execution_count": 87,
   "id": "592adf13",
   "metadata": {},
   "outputs": [],
   "source": [
    "lst1 = []\n",
    "for i in range(1,11):\n",
    "    lst1.append(i)"
   ]
  },
  {
   "cell_type": "markdown",
   "id": "a15b98fb",
   "metadata": {},
   "source": [
    "lst1\n"
   ]
  },
  {
   "cell_type": "code",
   "execution_count": 89,
   "id": "c0ae7a2c",
   "metadata": {},
   "outputs": [
    {
     "data": {
      "text/plain": [
       "[1, 2, 3, 4, 5, 6, 7, 8, 9, 10]"
      ]
     },
     "execution_count": 89,
     "metadata": {},
     "output_type": "execute_result"
    }
   ],
   "source": [
    "lst1"
   ]
  },
  {
   "cell_type": "code",
   "execution_count": 92,
   "id": "64097734",
   "metadata": {},
   "outputs": [],
   "source": [
    "#Company list\n",
    "\n",
    "company = ['amazon','flipkart','excelr','google']"
   ]
  },
  {
   "cell_type": "code",
   "execution_count": 93,
   "id": "5554ec52",
   "metadata": {},
   "outputs": [
    {
     "name": "stdout",
     "output_type": "stream",
     "text": [
      "www.amazon.com\n",
      "www.flipkart.com\n",
      "www.excelr.com\n",
      "www.google.com\n"
     ]
    }
   ],
   "source": [
    "websites = []\n",
    "\n",
    "for i in company:\n",
    "    print('www.' + i +'.com')"
   ]
  },
  {
   "cell_type": "code",
   "execution_count": 94,
   "id": "9707c255",
   "metadata": {},
   "outputs": [
    {
     "name": "stdout",
     "output_type": "stream",
     "text": [
      "1\n",
      "4\n",
      "9\n",
      "16\n",
      "25\n",
      "36\n",
      "49\n",
      "64\n",
      "81\n",
      "100\n"
     ]
    }
   ],
   "source": [
    "#print square of all numbers in range 1-10\n",
    "for i in range(1,11):\n",
    "    \n",
    "    print(i**2)\n",
    "\n"
   ]
  },
  {
   "cell_type": "code",
   "execution_count": 97,
   "id": "04d837f8",
   "metadata": {},
   "outputs": [],
   "source": [
    "#In class assignment\n",
    "\n",
    "\n"
   ]
  },
  {
   "cell_type": "code",
   "execution_count": 100,
   "id": "50d6b4e7",
   "metadata": {},
   "outputs": [
    {
     "name": "stdout",
     "output_type": "stream",
     "text": [
      "new r: 6\n",
      "new r: 7\n",
      "new r: 8\n",
      "new r: 9\n",
      "new r: 10\n"
     ]
    }
   ],
   "source": [
    "#assignment 2\n",
    "\n",
    "for r in range(1,6) :\n",
    "        r = r+5\n",
    "        print('new r:',r)"
   ]
  },
  {
   "cell_type": "code",
   "execution_count": 118,
   "id": "2f7471f6",
   "metadata": {},
   "outputs": [],
   "source": [
    "#assignment 4\n",
    "def age(age1):\n",
    "\n",
    "\n",
    "     if age1 < 18 :\n",
    "        print('not eligible')\n",
    "        return(age1)\n",
    "    \n",
    "     else :\n",
    "        print('eligible to vote')\n",
    "        return (age1)"
   ]
  },
  {
   "cell_type": "code",
   "execution_count": 119,
   "id": "423b1f2e",
   "metadata": {},
   "outputs": [
    {
     "name": "stdout",
     "output_type": "stream",
     "text": [
      "not eligible\n"
     ]
    },
    {
     "data": {
      "text/plain": [
       "5"
      ]
     },
     "execution_count": 119,
     "metadata": {},
     "output_type": "execute_result"
    }
   ],
   "source": [
    "age(5)"
   ]
  },
  {
   "cell_type": "code",
   "execution_count": 120,
   "id": "7ebba825",
   "metadata": {},
   "outputs": [
    {
     "name": "stdout",
     "output_type": "stream",
     "text": [
      "eligible to vote\n"
     ]
    },
    {
     "data": {
      "text/plain": [
       "20"
      ]
     },
     "execution_count": 120,
     "metadata": {},
     "output_type": "execute_result"
    }
   ],
   "source": [
    "age(20)"
   ]
  },
  {
   "cell_type": "code",
   "execution_count": 121,
   "id": "e4e0a3d0",
   "metadata": {},
   "outputs": [
    {
     "name": "stdout",
     "output_type": "stream",
     "text": [
      "eligible to vote\n"
     ]
    },
    {
     "data": {
      "text/plain": [
       "18"
      ]
     },
     "execution_count": 121,
     "metadata": {},
     "output_type": "execute_result"
    }
   ],
   "source": [
    "age(18)"
   ]
  },
  {
   "cell_type": "code",
   "execution_count": 122,
   "id": "aab0e4da",
   "metadata": {},
   "outputs": [],
   "source": [
    "#assignment 4 \n",
    "def AGE(age2):\n",
    "\n",
    "\n",
    "     while age2 < 18 :\n",
    "        print('not eligible')\n",
    "        return(age2)\n",
    "        \n",
    "    while age2 >= 18 :\n",
    "        print('eligible to vote')\n",
    "        return (age2)\n",
    "         "
   ]
  },
  {
   "cell_type": "code",
   "execution_count": 123,
   "id": "10ffd5e6",
   "metadata": {},
   "outputs": [
    {
     "name": "stdout",
     "output_type": "stream",
     "text": [
      "eligible to vote\n"
     ]
    },
    {
     "data": {
      "text/plain": [
       "80"
      ]
     },
     "execution_count": 123,
     "metadata": {},
     "output_type": "execute_result"
    }
   ],
   "source": [
    "AGE(80)"
   ]
  },
  {
   "cell_type": "code",
   "execution_count": 124,
   "id": "90bed1f3",
   "metadata": {},
   "outputs": [
    {
     "name": "stdout",
     "output_type": "stream",
     "text": [
      "not eligible\n"
     ]
    },
    {
     "data": {
      "text/plain": [
       "5"
      ]
     },
     "execution_count": 124,
     "metadata": {},
     "output_type": "execute_result"
    }
   ],
   "source": [
    "AGE(5)"
   ]
  },
  {
   "cell_type": "code",
   "execution_count": 171,
   "id": "44ffde2d",
   "metadata": {},
   "outputs": [
    {
     "name": "stdout",
     "output_type": "stream",
     "text": [
      "Anita\n",
      "Arjun\n",
      "Ali\n",
      "Ashima\n",
      "Anuj\n"
     ]
    }
   ],
   "source": [
    "#assignment 1\n",
    "lst = ['Anita','Raj','Reena','Arjun','Ali','John','Ashima','Anuj']\n",
    "\n",
    "lst2 = []\n",
    "\n",
    "for i in lst:\n",
    "    if i[0].startswith('A'):\n",
    "        lst2 = str(i)\n",
    "        print(lst2)"
   ]
  },
  {
   "cell_type": "code",
   "execution_count": 14,
   "id": "62c52313",
   "metadata": {
    "scrolled": false
   },
   "outputs": [
    {
     "name": "stdout",
     "output_type": "stream",
     "text": [
      "76\n",
      "80\n",
      "90\n",
      "78\n"
     ]
    }
   ],
   "source": [
    "#assignment 3\n",
    "marks = [20,30,40,76,80,90,78]\n",
    "marks1 = []\n",
    "\n",
    "for i in marks:\n",
    "    if i > 75:\n",
    "        print(i)\n",
    "\n",
    "        \n",
    "    \n",
    "    "
   ]
  },
  {
   "cell_type": "code",
   "execution_count": null,
   "id": "9fce0e5d",
   "metadata": {},
   "outputs": [],
   "source": []
  }
 ],
 "metadata": {
  "kernelspec": {
   "display_name": "Python 3 (ipykernel)",
   "language": "python",
   "name": "python3"
  },
  "language_info": {
   "codemirror_mode": {
    "name": "ipython",
    "version": 3
   },
   "file_extension": ".py",
   "mimetype": "text/x-python",
   "name": "python",
   "nbconvert_exporter": "python",
   "pygments_lexer": "ipython3",
   "version": "3.10.9"
  }
 },
 "nbformat": 4,
 "nbformat_minor": 5
}
